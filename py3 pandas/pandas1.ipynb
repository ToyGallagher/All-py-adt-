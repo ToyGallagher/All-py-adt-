{
 "cells": [
  {
   "cell_type": "code",
   "execution_count": null,
   "id": "e69283ae",
   "metadata": {},
   "outputs": [],
   "source": []
  }
 ],
 "metadata": {
  "interpreter": {
   "hash": "702baa83871e7622a96c63621d48939bc8fcd4bbc03c7fa5bee7f6d02a967f85"
  },
  "kernelspec": {
   "display_name": "BasisPandas",
   "language": "python",
   "name": "python3"
  },
  "language_info": {
   "codemirror_mode": {
    "name": "ipython",
    "version": 3
   },
   "file_extension": ".py",
   "mimetype": "text/x-python",
   "name": "python",
   "nbconvert_exporter": "python",
   "pygments_lexer": "ipython3",
   "version": "3.9.7"
  }
 },
 "nbformat": 4,
 "nbformat_minor": 5
}
